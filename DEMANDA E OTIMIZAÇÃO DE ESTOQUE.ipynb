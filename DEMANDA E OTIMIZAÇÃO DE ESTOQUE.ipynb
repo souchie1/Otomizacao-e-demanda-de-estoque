{
 "cells": [
  {
   "cell_type": "code",
   "execution_count": null,
   "id": "18f9cbbb",
   "metadata": {},
   "outputs": [],
   "source": [
    "import pandas as pd\n",
    "import numpy as np\n",
    "import plotly.express as px\n",
    "from statsmodels.graphics.tsaplots import plot_acf, plot_pacf\n",
    "import matplotlib.pyplot as plt\n",
    "from statsmodels.tsa.statespace.sarimax import SARIMAX\n",
    "import seaborn as sns\n"
   ]
  },
  {
   "cell_type": "code",
   "execution_count": null,
   "id": "a7b3c7f6",
   "metadata": {},
   "outputs": [],
   "source": [
    "df = pd.read_csv(demand_inventory.csv')\n",
    "df"
   ]
  },
  {
   "cell_type": "code",
   "execution_count": null,
   "id": "81157af5",
   "metadata": {},
   "outputs": [],
   "source": [
    "df = df.drop(columns=['Unnamed: 0'])\n",
    "df"
   ]
  },
  {
   "cell_type": "code",
   "execution_count": null,
   "id": "51076480",
   "metadata": {},
   "outputs": [],
   "source": [
    "novo_nome_colunas = {\n",
    "    'Date': 'Data',\n",
    "    'Product_ID': 'ID_do_Produto',\n",
    "    'Demand': 'Demanda',\n",
    "    'Inventory': 'Inventário'\n",
    "}\n",
    "\n",
    "df.rename(columns=novo_nome_colunas, inplace=True)"
   ]
  },
  {
   "cell_type": "code",
   "execution_count": null,
   "id": "9d4981b3",
   "metadata": {},
   "outputs": [],
   "source": [
    "df"
   ]
  },
  {
   "cell_type": "code",
   "execution_count": null,
   "id": "e756f517",
   "metadata": {},
   "outputs": [],
   "source": [
    "df.tail()"
   ]
  },
  {
   "cell_type": "code",
   "execution_count": null,
   "id": "748f75a6",
   "metadata": {},
   "outputs": [],
   "source": [
    "df.shape"
   ]
  },
  {
   "cell_type": "code",
   "execution_count": null,
   "id": "4152f8b6",
   "metadata": {},
   "outputs": [],
   "source": [
    "df.info()"
   ]
  },
  {
   "cell_type": "code",
   "execution_count": null,
   "id": "1c92bf78",
   "metadata": {},
   "outputs": [],
   "source": [
    "df['Data'] = pd.to_datetime(df['Data'])\n"
   ]
  },
  {
   "cell_type": "code",
   "execution_count": null,
   "id": "29d663b6",
   "metadata": {},
   "outputs": [],
   "source": [
    "df.info()"
   ]
  },
  {
   "cell_type": "code",
   "execution_count": null,
   "id": "51d1bbfe",
   "metadata": {},
   "outputs": [],
   "source": [
    "df.isnull().sum()"
   ]
  },
  {
   "cell_type": "code",
   "execution_count": null,
   "id": "1cf4766e",
   "metadata": {},
   "outputs": [],
   "source": [
    "df['ID_do_Produto'].unique()"
   ]
  },
  {
   "cell_type": "code",
   "execution_count": null,
   "id": "54bc6c4b",
   "metadata": {},
   "outputs": [],
   "source": []
  },
  {
   "cell_type": "code",
   "execution_count": null,
   "id": "742a898b",
   "metadata": {},
   "outputs": [],
   "source": [
    "df.describe()"
   ]
  },
  {
   "cell_type": "code",
   "execution_count": null,
   "id": "bdc7abd3",
   "metadata": {},
   "outputs": [],
   "source": [
    "# Criar subplots\n",
    "fig, axes = plt.subplots(nrows=2, ncols=1, figsize=(10, 8))\n",
    "\n",
    "# Plotar a demanda ao longo do tempo\n",
    "df.plot(x='Data', y='Demanda', ax=axes[0], color='blue', linewidth=2, label='Demanda')\n",
    "axes[0].set_title('Demanda ao longo do Tempo')\n",
    "axes[0].set_xlabel('Data')\n",
    "axes[0].set_ylabel('Demanda')\n",
    "\n",
    "# Plotar o inventário ao longo do tempo\n",
    "df.plot(x='Data', y='Inventário', ax=axes[1], color='green', linewidth=2, label='Inventário')\n",
    "axes[1].set_title('Inventário ao longo do Tempo')\n",
    "axes[1].set_xlabel('Data')\n",
    "axes[1].set_ylabel('Inventário')\n",
    "\n",
    "# Ajustar layout\n",
    "plt.tight_layout()\n",
    "\n",
    "# Mostrar o gráfico\n",
    "plt.show()"
   ]
  },
  {
   "cell_type": "code",
   "execution_count": null,
   "id": "22d8c4c1",
   "metadata": {},
   "outputs": [],
   "source": [
    "# Plotar gráfico de dispersão para identificar padrões sazonais na demanda\n",
    "plt.figure(figsize=(10, 5))\n",
    "sns.scatterplot(data=df, x='Data', y='Demanda')\n",
    "plt.title('Padrões Sazonais na Demanda')\n",
    "plt.xlabel('Data')\n",
    "plt.ylabel('Demanda')\n",
    "plt.show()\n",
    "\n",
    "# Plotar gráfico de linha para identificar tendências de longo prazo no inventário\n",
    "plt.figure(figsize=(10, 5))\n",
    "sns.lineplot(data=df, x='Data', y='Inventário')\n",
    "plt.title('Tendências de Longo Prazo no Inventário')\n",
    "plt.xlabel('Data')\n",
    "plt.ylabel('Inventário')\n",
    "plt.show()"
   ]
  },
  {
   "cell_type": "code",
   "execution_count": null,
   "id": "5d9fc170",
   "metadata": {},
   "outputs": [],
   "source": [
    "import pandas as pd\n",
    "import matplotlib.pyplot as plt\n",
    "from statsmodels.tsa.seasonal import seasonal_decompose\n",
    "\n",
    "# Suponha que 'df' seja seu DataFrame com a coluna 'Data', 'Demanda' e 'Inventário'\n",
    "\n",
    "# Definir a coluna 'Data' como índice do DataFrame e garantir que esteja em formato de data\n",
    "df['Data'] = pd.to_datetime(df['Data'])\n",
    "df.set_index('Data', inplace=True)\n",
    "\n",
    "# Realizar a decomposição da série temporal para a coluna 'Demanda'\n",
    "decomposition_demanda = seasonal_decompose(df['Demanda'], model='additive')\n",
    "\n",
    "# Plotar os componentes da decomposição da série temporal para 'Demanda'\n",
    "plt.figure(figsize=(12, 8))\n",
    "plt.subplot(411)\n",
    "plt.plot(decomposition_demanda.observed, label='Observado')\n",
    "plt.legend(loc='upper left')\n",
    "plt.subplot(412)\n",
    "plt.plot(decomposition_demanda.trend, label='Tendência')\n",
    "plt.legend(loc='upper left')\n",
    "plt.subplot(413)\n",
    "plt.plot(decomposition_demanda.seasonal, label='Sazonalidade')\n",
    "plt.legend(loc='upper left')\n",
    "plt.subplot(414)\n",
    "plt.plot(decomposition_demanda.resid, label='Ruído')\n",
    "plt.legend(loc='upper left')\n",
    "plt.tight_layout()\n",
    "plt.show()\n",
    "\n",
    "# Repetir o processo para a coluna 'Inventário'\n",
    "decomposition_inventario = seasonal_decompose(df['Inventário'], model='additive')\n",
    "\n",
    "# Plotar os componentes da decomposição da série temporal para 'Inventário'\n",
    "plt.figure(figsize=(12, 8))\n",
    "plt.subplot(411)\n",
    "plt.plot(decomposition_inventario.observed, label='Observado')\n",
    "plt.legend(loc='upper left')\n",
    "plt.subplot(412)\n",
    "plt.plot(decomposition_inventario.trend, label='Tendência')\n",
    "plt.legend(loc='upper left')\n",
    "plt.subplot(413)\n",
    "plt.plot(decomposition_inventario.seasonal, label='Sazonalidade')\n",
    "plt.legend(loc='upper left')\n",
    "plt.subplot(414)\n",
    "plt.plot(decomposition_inventario.resid, label='Ruído')\n",
    "plt.legend(loc='upper left')\n",
    "plt.tight_layout()\n",
    "plt.show()\n"
   ]
  },
  {
   "cell_type": "code",
   "execution_count": null,
   "id": "e5096e19",
   "metadata": {},
   "outputs": [],
   "source": [
    "# Remover linhas com valores não numéricos na coluna Demanda\n",
    "df = df[pd.to_numeric(df['Demanda'], errors='coerce').notnull()]\n",
    "\n",
    "# Agora, você pode calcular as métricas para a coluna Demanda\n",
    "# Aqui, você pode usar os mesmos códigos fornecidos anteriormente para calcular as métricas desejadas\n"
   ]
  },
  {
   "cell_type": "code",
   "execution_count": null,
   "id": "30b88b93",
   "metadata": {},
   "outputs": [],
   "source": [
    "# Agrupar os dados por mês e calcular as métricas\n",
    "df_monthly_metrics = df.resample('M').agg({'Demanda': ['mean', 'median', 'min', 'max'],\n",
    "                                           'Inventário': ['mean', 'median', 'min', 'max']})\n",
    "\n",
    "# Renomear as colunas para melhor identificação\n",
    "df_monthly_metrics.columns = ['Demanda_Média', 'Demanda_Mediana', 'Demanda_Mínimo', 'Demanda_Máximo',\n",
    "                              'Inventário_Média', 'Inventário_Mediana', 'Inventário_Mínimo', 'Inventário_Máximo']\n",
    "\n",
    "# Exibir as métricas calculadas por mês\n",
    "print(df_monthly_metrics)\n"
   ]
  },
  {
   "cell_type": "code",
   "execution_count": null,
   "id": "a76b28c9",
   "metadata": {},
   "outputs": [],
   "source": [
    "# Agrupar os dados por trimestre e calcular as métricas\n",
    "df_quarterly_metrics = df.resample('Q').agg({'Demanda': ['mean', 'median', 'min', 'max'],\n",
    "                                             'Inventário': ['mean', 'median', 'min', 'max']})\n",
    "\n",
    "# Renomear as colunas para melhor identificação\n",
    "df_quarterly_metrics.columns = ['Demanda_Média', 'Demanda_Mediana', 'Demanda_Mínimo', 'Demanda_Máximo',\n",
    "                                 'Inventário_Média', 'Inventário_Mediana', 'Inventário_Mínimo', 'Inventário_Máximo']\n",
    "\n",
    "# Exibir as métricas calculadas por trimestre\n",
    "print(df_quarterly_metrics)\n"
   ]
  },
  {
   "cell_type": "code",
   "execution_count": null,
   "id": "115c5d07",
   "metadata": {},
   "outputs": [],
   "source": [
    "# Agrupar os dados por ano e calcular as métricas\n",
    "df_yearly_metrics = df.resample('Y').agg({'Demanda': ['mean', 'median', 'min', 'max'],\n",
    "                                          'Inventário': ['mean', 'median', 'min', 'max']})\n",
    "\n",
    "# Renomear as colunas para melhor identificação\n",
    "df_yearly_metrics.columns = ['Demanda_Média', 'Demanda_Mediana', 'Demanda_Mínimo', 'Demanda_Máximo',\n",
    "                             'Inventário_Média', 'Inventário_Mediana', 'Inventário_Mínimo', 'Inventário_Máximo']\n",
    "\n",
    "# Exibir as métricas calculadas por ano\n",
    "print(df_yearly_metrics)\n"
   ]
  },
  {
   "cell_type": "code",
   "execution_count": null,
   "id": "f8032bb4",
   "metadata": {},
   "outputs": [],
   "source": [
    "# Calcular a demanda total de cada produto ao longo do período de tempo\n",
    "demand_total_per_product = df.groupby('ID_do_Produto')['Demanda'].sum()\n",
    "\n",
    "# Mostrar o resultado\n",
    "print(demand_total_per_product)\n"
   ]
  },
  {
   "cell_type": "code",
   "execution_count": null,
   "id": "4827d7b7",
   "metadata": {},
   "outputs": [],
   "source": [
    "# Configurações visuais\n",
    "plt.figure(figsize=(12, 6))\n",
    "\n",
    "# Histograma da demanda\n",
    "plt.subplot(1, 2, 1)\n",
    "sns.histplot(df['Demanda'], kde=True)\n",
    "plt.title('Histograma da Demanda')\n",
    "\n",
    "# Boxplot da demanda\n",
    "plt.subplot(1, 2, 2)\n",
    "sns.boxplot(data=df['Demanda'])\n",
    "plt.title('Boxplot da Demanda')\n",
    "\n",
    "plt.tight_layout()\n",
    "plt.show()"
   ]
  },
  {
   "cell_type": "code",
   "execution_count": null,
   "id": "2d6b497c",
   "metadata": {},
   "outputs": [],
   "source": [
    "# Agrupar os dados pelo ID do Produto e calcular a média do Inventário\n",
    "nivel_medio_inventario = df.groupby('ID_do_Produto')['Inventário'].mean()\n",
    "\n",
    "# Exibir o nível médio de inventário para cada produto\n",
    "print(nivel_medio_inventario)\n"
   ]
  },
  {
   "cell_type": "code",
   "execution_count": null,
   "id": "1d773ea0",
   "metadata": {},
   "outputs": [],
   "source": [
    "# Calcular correlações entre a demanda e o inventário\n",
    "correlacoes = df[['Demanda', 'Inventário']].corr()\n",
    "\n",
    "# Exibir as correlações\n",
    "print(correlacoes)\n"
   ]
  },
  {
   "cell_type": "code",
   "execution_count": null,
   "id": "bcd57abd",
   "metadata": {},
   "outputs": [],
   "source": [
    "plt.figure(figsize=(10, 6))\n",
    "plt.scatter(df['Demanda'], df['Inventário'], alpha=0.5)\n",
    "plt.title('Relacionamento entre Demanda e Inventário')\n",
    "plt.xlabel('Demanda')\n",
    "plt.ylabel('Inventário')\n",
    "plt.grid(True)\n",
    "plt.show()"
   ]
  },
  {
   "cell_type": "code",
   "execution_count": null,
   "id": "35a3c57d",
   "metadata": {},
   "outputs": [],
   "source": [
    "# Agrupar os dados por produto\n",
    "grouped_df = df.groupby('ID_do_Produto')\n",
    "\n",
    "# Iterar sobre cada grupo e realizar análises específicas para cada produto\n",
    "for product_id, group_data in grouped_df:\n",
    "    # Realizar análises específicas para cada produto, como calcular médias, desvios padrão, etc.\n",
    "    # Por exemplo, calcular a média da demanda e do inventário para cada produto\n",
    "    demand_mean = group_data['Demanda'].mean()\n",
    "    inventory_mean = group_data['Inventário'].mean()\n",
    "    \n",
    "    # Imprimir os resultados\n",
    "    print(f\"Produto ID: {product_id}\")\n",
    "    print(f\"Média da Demanda: {demand_mean}\")\n",
    "    print(f\"Média do Inventário: {inventory_mean}\")\n",
    "    print(\"\\n\")"
   ]
  },
  {
   "cell_type": "code",
   "execution_count": null,
   "id": "934d3900",
   "metadata": {},
   "outputs": [],
   "source": [
    "# Calcular estatísticas resumidas para cada produto\n",
    "summary_stats = df.groupby('ID_do_Produto').agg({'Demanda': 'mean', 'Inventário': 'mean'})\n",
    "\n",
    "# Ordenar os produtos pelo desempenho da demanda (ou inventário) médio\n",
    "summary_stats_sorted_demand = summary_stats.sort_values(by='Demanda', ascending=False)\n",
    "summary_stats_sorted_inventory = summary_stats.sort_values(by='Inventário', ascending=False)\n",
    "\n",
    "# Visualizar os resultados\n",
    "plt.figure(figsize=(12, 6))\n",
    "\n",
    "# Comparação de desempenho de demanda média\n",
    "plt.subplot(1, 2, 1)\n",
    "summary_stats_sorted_demand['Demanda'].plot(kind='bar', color='skyblue')\n",
    "plt.title('Desempenho dos Produtos em Termos de Demanda Média')\n",
    "plt.xlabel('ID do Produto')\n",
    "plt.ylabel('Demanda Média')\n",
    "\n",
    "# Comparação de desempenho de inventário médio\n",
    "plt.subplot(1, 2, 2)\n",
    "summary_stats_sorted_inventory['Inventário'].plot(kind='bar', color='salmon')\n",
    "plt.title('Desempenho dos Produtos em Termos de Inventário Médio')\n",
    "plt.xlabel('ID do Produto')\n",
    "plt.ylabel('Inventário Médio')\n",
    "\n",
    "plt.tight_layout()\n",
    "plt.show()\n"
   ]
  },
  {
   "cell_type": "code",
   "execution_count": null,
   "id": "e4a09dd1",
   "metadata": {},
   "outputs": [],
   "source": [
    "import plotly.graph_objs as go\n",
    "\n",
    "# Agregando os dados em base anual e calculando estatísticas resumidas\n",
    "df_yearly = df.resample('Y').agg({'Demanda': ['mean', 'median', 'min', 'max', 'std'],\n",
    "                                  'Inventário': ['mean', 'median', 'min', 'max', 'std']})\n",
    "\n",
    "# Criando os traces para média da demanda e média do inventário ao longo dos anos\n",
    "trace_demanda_media = go.Scatter(x=df_yearly.index.year, y=df_yearly['Demanda']['mean'], mode='markers', name='Média da Demanda')\n",
    "trace_inventario_media = go.Scatter(x=df_yearly.index.year, y=df_yearly['Inventário']['mean'], mode='markers', name='Média do Inventário')\n",
    "\n",
    "# Ajuste de modelo de regressão para tendência de longo prazo\n",
    "X = sm.add_constant(df_yearly.index.year)  # Adicionando intercepto\n",
    "model_demanda = sm.OLS(df_yearly['Demanda']['mean'], X).fit()\n",
    "model_inventario = sm.OLS(df_yearly['Inventário']['mean'], X).fit()\n",
    "\n",
    "# Criando os traces para as tendências de demanda e inventário\n",
    "trace_tendencia_demanda = go.Scatter(x=df_yearly.index.year, y=model_demanda.predict(X), mode='lines', name='Tendência de Demanda')\n",
    "trace_tendencia_inventario = go.Scatter(x=df_yearly.index.year, y=model_inventario.predict(X), mode='lines', name='Tendência de Inventário')\n",
    "\n",
    "# Criando o layout do gráfico\n",
    "layout = go.Layout(title='Tendências de Demanda e Inventário ao Longo dos Anos',\n",
    "                   xaxis=dict(title='Ano'),\n",
    "                   yaxis=dict(title='Valor'),\n",
    "                   legend=dict(x=0, y=1, traceorder='normal', font=dict(family='Arial', size=12, color='black')))\n",
    "\n",
    "# Criando a figura e adicionando os traces\n",
    "fig = go.Figure(data=[trace_demanda_media, trace_inventario_media, trace_tendencia_demanda, trace_tendencia_inventario], layout=layout)\n",
    "\n",
    "# Exibindo o gráfico\n",
    "fig.show()\n"
   ]
  },
  {
   "cell_type": "code",
   "execution_count": null,
   "id": "e35ba141",
   "metadata": {},
   "outputs": [],
   "source": [
    "import plotly.graph_objs as go\n",
    "\n",
    "# Criando os traces para média da demanda e tendência de demanda\n",
    "trace_demanda_media = go.Scatter(x=df_yearly.index.year, y=df_yearly['Demanda']['mean'], mode='markers', name='Média da Demanda')\n",
    "trace_tendencia_demanda = go.Scatter(x=df_yearly.index.year, y=model_demanda.predict(X), mode='lines', name='Tendência de Demanda')\n",
    "\n",
    "# Criando os traces para média do inventário e tendência de inventário\n",
    "trace_inventario_media = go.Scatter(x=df_yearly.index.year, y=df_yearly['Inventário']['mean'], mode='markers', name='Média do Inventário')\n",
    "trace_tendencia_inventario = go.Scatter(x=df_yearly.index.year, y=model_inventario.predict(X), mode='lines', name='Tendência de Inventário')\n",
    "\n",
    "# Criando o layout do gráfico\n",
    "layout = go.Layout(title='Tendências de Longo Prazo de Demanda e Inventário',\n",
    "                   xaxis=dict(title='Ano'),\n",
    "                   yaxis=dict(title='Valor'),\n",
    "                   legend=dict(x=0, y=1, traceorder='normal', font=dict(family='Arial', size=12, color='black')))\n",
    "\n",
    "# Criando a figura e adicionando os traces\n",
    "fig = go.Figure(data=[trace_demanda_media, trace_tendencia_demanda, trace_inventario_media, trace_tendencia_inventario], layout=layout)\n",
    "\n",
    "# Exibindo o gráfico\n",
    "fig.show()\n"
   ]
  },
  {
   "cell_type": "code",
   "execution_count": null,
   "id": "f01b5fc3",
   "metadata": {},
   "outputs": [],
   "source": [
    "# Ajustando o formato da data\n",
    "df.index = pd.to_datetime(df.index)\n",
    "\n",
    "# Definindo a série temporal e fazendo a diferenciação\n",
    "time_series = df['Demanda']\n",
    "differenced_series = time_series.diff().dropna()\n",
    "\n",
    "# Plotando ACF e PACF da série temporal diferenciada\n",
    "fig, axes = plt.subplots(1, 2, figsize=(12, 4))\n",
    "plot_acf(differenced_series, ax=axes[0])\n",
    "plot_pacf(differenced_series, ax=axes[1])\n",
    "plt.show()\n"
   ]
  },
  {
   "cell_type": "code",
   "execution_count": null,
   "id": "87bf3ba4",
   "metadata": {},
   "outputs": [],
   "source": [
    "from statsmodels.tsa.statespace.sarimax import SARIMAX\n",
    "\n",
    "# Definindo a ordem e a ordem sazonal\n",
    "order = (1, 1, 1)  # Ordem do modelo ARIMA\n",
    "seasonal_order = (0, 1, 1, 2)  # Ordem sazonal do modelo SARIMA\n",
    "\n",
    "# Criando e ajustando o modelo SARIMA\n",
    "model = SARIMAX(time_series, order=order, seasonal_order=seasonal_order)\n",
    "model_fit = model.fit(disp=False)\n",
    "\n",
    "# Número de etapas futuras para prever\n",
    "future_steps = 30\n",
    "\n",
    "# Fazendo previsões para as próximas future_steps etapas\n",
    "predictions = model_fit.forecast(steps=future_steps)\n",
    "\n",
    "# Convertendo as previsões para inteiros\n",
    "predictions = predictions.astype(int)\n",
    "\n",
    "print(predictions)\n"
   ]
  },
  {
   "cell_type": "code",
   "execution_count": null,
   "id": "2e0850a7",
   "metadata": {},
   "outputs": [],
   "source": [
    "import numpy as np\n",
    "\n",
    "# Definindo as datas futuras para previsão\n",
    "future_dates = pd.date_range(start=time_series.index[-1] + pd.DateOffset(days=1), periods=future_steps, freq='D')\n",
    "\n",
    "# Criando uma série pandas com os valores previstos e índices de data\n",
    "forecasted_demand = pd.Series(predictions, index=future_dates)\n",
    "\n",
    "# Nível inicial de inventário\n",
    "initial_inventory = 5500\n",
    "\n",
    "# Lead time (número de dias para repor o inventário)\n",
    "lead_time = 1  # varia para cada negócio, 1 é um exemplo\n",
    "\n",
    "# Nível de serviço (probabilidade de não ficar sem estoque)\n",
    "service_level = 0.95  # varia para cada negócio, 0.95 é um exemplo\n",
    "\n",
    "# Calculando a quantidade ótima de pedido usando a fórmula do Newsvendor\n",
    "z = np.abs(np.percentile(forecasted_demand, 100 * (1 - service_level)))\n",
    "order_quantity = np.ceil(forecasted_demand.mean() + z).astype(int)\n",
    "\n",
    "# Calculando o ponto de reposição\n",
    "reorder_point = forecasted_demand.mean() * lead_time + z\n",
    "\n",
    "# Calculando o estoque de segurança ótimo\n",
    "safety_stock = reorder_point - forecasted_demand.mean() * lead_time\n",
    "\n",
    "# Calculando o custo total (custo de manutenção + custo de falta de estoque)\n",
    "holding_cost = 0.1  # varia para cada negócio, 0.1 é um exemplo\n",
    "stockout_cost = 10  # varia para cada negócio, 10 é um exemplo\n",
    "total_holding_cost = holding_cost * (initial_inventory + 0.5 * order_quantity)\n",
    "total_stockout_cost = stockout_cost * np.maximum(0, forecasted_demand.mean() * lead_time - initial_inventory)\n",
    "\n",
    "# Calculando o custo total\n",
    "total_cost = total_holding_cost + total_stockout_cost\n",
    "\n",
    "print(\"Quantidade de Pedido Ótima:\", order_quantity)\n",
    "print(\"Ponto de Reposição:\", reorder_point)\n",
    "print(\"Estoque de Segurança:\", safety_stock)\n",
    "print(\"Custo Total:\", total_cost)\n"
   ]
  },
  {
   "cell_type": "code",
   "execution_count": null,
   "id": "0ba9dab1",
   "metadata": {},
   "outputs": [],
   "source": []
  }
 ],
 "metadata": {
  "kernelspec": {
   "display_name": "Python 3 (ipykernel)",
   "language": "python",
   "name": "python3"
  },
  "language_info": {
   "codemirror_mode": {
    "name": "ipython",
    "version": 3
   },
   "file_extension": ".py",
   "mimetype": "text/x-python",
   "name": "python",
   "nbconvert_exporter": "python",
   "pygments_lexer": "ipython3",
   "version": "3.11.5"
  }
 },
 "nbformat": 4,
 "nbformat_minor": 5
}
